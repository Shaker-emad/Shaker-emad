{
  "nbformat": 4,
  "nbformat_minor": 0,
  "metadata": {
    "colab": {
      "provenance": [],
      "authorship_tag": "ABX9TyNN1sM0q8Cwlwap2ABJ49+y",
      "include_colab_link": true
    },
    "kernelspec": {
      "name": "python3",
      "display_name": "Python 3"
    },
    "language_info": {
      "name": "python"
    }
  },
  "cells": [
    {
      "cell_type": "markdown",
      "metadata": {
        "id": "view-in-github",
        "colab_type": "text"
      },
      "source": [
        "<a href=\"https://colab.research.google.com/github/Shaker-emad/Shaker-emad/blob/main/chatbot.ipynb\" target=\"_parent\"><img src=\"https://colab.research.google.com/assets/colab-badge.svg\" alt=\"Open In Colab\"/></a>"
      ]
    },
    {
      "cell_type": "code",
      "execution_count": 3,
      "metadata": {
        "colab": {
          "base_uri": "https://localhost:8080/"
        },
        "id": "2Rc1y4PZ9XRD",
        "outputId": "4c9d66c5-ba93-42dd-ca58-ff60aca158b5"
      },
      "outputs": [
        {
          "output_type": "stream",
          "name": "stderr",
          "text": [
            "[nltk_data] Downloading package punkt to /root/nltk_data...\n",
            "[nltk_data]   Package punkt is already up-to-date!\n",
            "WARNING:tensorflow:From /usr/local/lib/python3.10/dist-packages/tensorflow/python/compat/v2_compat.py:107: disable_resource_variables (from tensorflow.python.ops.variable_scope) is deprecated and will be removed in a future version.\n",
            "Instructions for updating:\n",
            "non-resource variables are not supported in the long term\n"
          ]
        }
      ],
      "source": [
        "from urllib import response\n",
        "import nltk \n",
        "nltk.download('punkt')\n",
        "from nltk.stem.lancaster import LancasterStemmer\n",
        "stemmer = LancasterStemmer()\n",
        "\n",
        "import numpy as np\n",
        "import tflearn\n",
        "import tensorflow as tf\n",
        "from tensorflow.python.framework import ops\n",
        "\n",
        "import random\n",
        "import json\n",
        "import pickle\n",
        "\n"
      ]
    },
    {
      "cell_type": "code",
      "source": [
        "with open(\"/content/intents (4).json\") as file:\n",
        "    data = json.load(file)\n"
      ],
      "metadata": {
        "id": "HkXeOqDE-ALj"
      },
      "execution_count": 4,
      "outputs": []
    },
    {
      "cell_type": "code",
      "source": [
        "train = input(\"Train the model type in (train): \")\n"
      ],
      "metadata": {
        "colab": {
          "base_uri": "https://localhost:8080/"
        },
        "id": "zYkxCaHU-M2m",
        "outputId": "26c6bca8-7bcf-4618-db85-e9622b0ae738"
      },
      "execution_count": 5,
      "outputs": [
        {
          "name": "stdout",
          "output_type": "stream",
          "text": [
            "Train the model type in (train): train\n"
          ]
        }
      ]
    },
    {
      "cell_type": "code",
      "source": [
        "#Data preprocessing start\n",
        "if train.lower() == \"train\":\n",
        "    words = []\n",
        "    labels = []\n",
        "    docs_x = []\n",
        "    docs_y = []\n",
        "\n",
        "    for intent in data['intents']:\n",
        "        for pattern in intent['patterns']:\n",
        "            wrds = nltk.word_tokenize(pattern)\n",
        "            words.extend(wrds)\n",
        "            docs_x.append(wrds)\n",
        "            docs_y.append(intent['tag'])\n",
        "\n",
        "        if intent[\"tag\"] not in labels:\n",
        "            labels.append(intent['tag'])\n"
      ],
      "metadata": {
        "id": "pEhG2S1B-iZH"
      },
      "execution_count": 8,
      "outputs": []
    },
    {
      "cell_type": "code",
      "source": [
        "    #Getting rid of duplicate words\n",
        "    words = [stemmer.stem(w.lower()) for w in words if w not in \"?\"]\n",
        "    words = sorted(list(set(words)))\n",
        "\n",
        "    labels = sorted(labels)\n",
        "\n"
      ],
      "metadata": {
        "id": "OL8CjJLK-p1I"
      },
      "execution_count": 9,
      "outputs": []
    },
    {
      "cell_type": "code",
      "source": [
        "    training = []\n",
        "    output = []\n",
        "\n",
        "    out_empty = [0 for _ in range(len(labels))]\n",
        "\n",
        "    for x, doc in enumerate(docs_x):\n",
        "        #Bag of words\n",
        "        bag = []\n",
        "\n",
        "        wrds = [stemmer.stem(w) for w in doc]\n",
        "\n",
        "        #Going through all the words\n",
        "        for w in words:\n",
        "            if w in wrds:\n",
        "                bag.append(1)\n",
        "            else:\n",
        "                bag.append(0)\n",
        "        output_row = out_empty[:]\n",
        "        output_row[labels.index(docs_y[x])] = 1\n",
        "\n",
        "        training.append(bag)\n",
        "        output.append(output_row)\n",
        "\n",
        "    training = np.array(training)\n",
        "    output = np.array(output)\n",
        "\n"
      ],
      "metadata": {
        "id": "bS6NbaEs-uGd"
      },
      "execution_count": 10,
      "outputs": []
    },
    {
      "cell_type": "code",
      "source": [
        "    try:\n",
        "        with open('data.pickel', 'rb') as f:\n",
        "            words, labels, training, output = pickle.load(f)\n",
        "    except:\n",
        "        # rest of the code goes here ...\n",
        "        with open('data.pickel', 'wb') as f:\n",
        "            pickle.dump((words, labels, training, output), f)\n",
        "    else:\n",
        "        # the data has already been pickled, no need to preprocess it again\n",
        "        pass\n",
        "\n"
      ],
      "metadata": {
        "id": "pBKlD6-4-ykJ"
      },
      "execution_count": 11,
      "outputs": []
    },
    {
      "cell_type": "code",
      "source": [
        "#Model creation start\n",
        "ops.reset_default_graph()\n",
        "#Input layer trying to get the length from none on\n",
        "net = tflearn.input_data(shape= [None, len(training[0])])\n",
        "net = tflearn.fully_connected(net, 16, activation=\"relu\") #hidden layer\n",
        "net = tflearn.fully_connected(net, 16, activation=\"relu\") #hidden layer\n",
        "#Output layer solfmax \n",
        "net = tflearn.fully_connected(net, len(output[0]), activation=\"softmax\")\n",
        "net = tflearn.regression(net)\n",
        "\n",
        "model = tflearn.DNN(net)\n",
        "#end model creation\n",
        "\n",
        "\n"
      ],
      "metadata": {
        "id": "Q5bI3nprAHe-"
      },
      "execution_count": null,
      "outputs": []
    },
    {
      "cell_type": "code",
      "source": [
        "if train.lower() == \"train\":\n",
        "    model.fit(training, output, n_epoch=1000, batch_size=8, show_metric=True)\n",
        "    model.save(\"model.tflearn\")\n",
        "\n",
        "else:\n",
        "    model.load(\"model.tflearn\")\n",
        "\n",
        "\n",
        "\n"
      ],
      "metadata": {
        "colab": {
          "base_uri": "https://localhost:8080/"
        },
        "id": "4eSTt8NWANIR",
        "outputId": "a82182ec-e290-4465-dcfb-0ecbf2e6b3b4"
      },
      "execution_count": 13,
      "outputs": [
        {
          "output_type": "stream",
          "name": "stdout",
          "text": [
            "Training Step: 10999  | total loss: \u001b[1m\u001b[32m0.00977\u001b[0m\u001b[0m | time: 0.054s\n",
            "| Adam | epoch: 1000 | loss: 0.00977 - acc: 1.0000 -- iter: 80/81\n",
            "Training Step: 11000  | total loss: \u001b[1m\u001b[32m0.00927\u001b[0m\u001b[0m | time: 0.061s\n",
            "| Adam | epoch: 1000 | loss: 0.00927 - acc: 1.0000 -- iter: 81/81\n",
            "--\n"
          ]
        }
      ]
    },
    {
      "cell_type": "code",
      "source": [
        "def bag_of_words(s, words):\n",
        "    bag = [0 for _ in range(len(words))]\n",
        "\n",
        "    s_words = nltk.word_tokenize(s)\n",
        "    s_words = [stemmer.stem(word.lower()) for word in s_words if word not in \"?\"]\n",
        "\n",
        "    for se in s_words:\n",
        "        for i, w in enumerate(words):\n",
        "            if w == se:\n",
        "                bag[i] = 1\n",
        "            \n",
        "    return np.array(bag)\n",
        "\n",
        "\n"
      ],
      "metadata": {
        "id": "27p6bxfMAdnY"
      },
      "execution_count": 14,
      "outputs": []
    },
    {
      "cell_type": "code",
      "source": [
        "#Generate user input\n",
        "def chat():\n",
        "    #user input\n",
        "    print(\"I'm the chatbot of Buffalo Burger Restaurant\")\n",
        "    while True:\n",
        "        inp = input(\"You: \")\n",
        "        if inp.lower() == \"quit\":\n",
        "            break\n",
        "        \n",
        "        #All this is going to give us a matrix of numbers where the numbers are probabilities of each class\n",
        "        results = model.predict([bag_of_words(inp, words)])\n",
        "        #Argmax will grab the index of highest probability in the matrix\n",
        "        results_index = np.argmax(results)\n",
        "        tag = labels[results_index]\n",
        "        \n",
        "        for tg in data[\"intents\"]:\n",
        "            if tg['tag'] == tag:\n",
        "                responses = tg['responses']\n",
        "\n",
        "        print(random.choice(responses))\n",
        "\n",
        "\n",
        "chat()"
      ],
      "metadata": {
        "colab": {
          "base_uri": "https://localhost:8080/"
        },
        "id": "cDPrpGHtAgu9",
        "outputId": "4080a434-d6c7-4ced-c0df-fe434c88e859"
      },
      "execution_count": null,
      "outputs": [
        {
          "output_type": "stream",
          "name": "stdout",
          "text": [
            "I'm the chatbot of Buffalo Burger Restaurant\n",
            "You: Hi\n",
            " hello!,I'm the chatbot of Buffalo Burger Restaurant! how can I help?\n",
            "You: what your phone\n",
            "You can contact at: 01287414593\n",
            "You: what menu\n",
            "menu is : Steak ,cheeseburger, bacon burger,veggie burger,,Chicken dishes,French fries,    \n"
          ]
        }
      ]
    }
  ]
}